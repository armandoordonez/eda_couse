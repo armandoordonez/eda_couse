{
  "cells": [
    {
      "cell_type": "markdown",
      "metadata": {
        "colab_type": "text",
        "id": "view-in-github"
      },
      "source": [
        "<a href=\"https://colab.research.google.com/github/armandoordonez/eda_couse/blob/main/3_5_Pipeline_1.ipynb\" target=\"_parent\"><img src=\"https://colab.research.google.com/assets/colab-badge.svg\" alt=\"Open In Colab\"/></a>"
      ]
    },
    {
      "cell_type": "code",
      "execution_count": 13,
      "metadata": {
        "id": "14C24tVVh4Xk"
      },
      "outputs": [],
      "source": [
        "# importamos las librerias\n",
        "\n",
        "from sklearn import datasets\n",
        "from sklearn.model_selection import train_test_split\n",
        "from sklearn.preprocessing import StandardScaler\n",
        "from sklearn.decomposition import PCA\n",
        "from sklearn.tree import DecisionTreeClassifier\n",
        "\n",
        "# Metricas\n",
        "from sklearn.metrics import accuracy_score\n",
        "\n",
        "# importing pipes for making the Pipe flow\n",
        "from sklearn.pipeline import Pipeline\n",
        "\n"
      ]
    },
    {
      "cell_type": "code",
      "execution_count": 14,
      "metadata": {},
      "outputs": [
        {
          "name": "stdout",
          "output_type": "stream",
          "text": [
            "[Pipeline]  (step 1 of 2) Processing paso_estandarizacion, total=   0.0s\n",
            "[Pipeline]  (step 2 of 2) Processing paso_decision_tree, total=   0.0s\n",
            "0.9466666666666667\n"
          ]
        }
      ],
      "source": [
        "# dataset de prueba\n",
        "\n",
        "iris = datasets.load_iris()\n",
        "\n",
        "X = iris.data\n",
        "y = iris.target\n",
        "\n",
        "#Partimos los datos\n",
        "\n",
        "X_train, X_test, y_train, y_test = train_test_split(X, y, test_size = 0.50)\n",
        "\n",
        "# paso 1 PCA, paso 2 escalado, paso 2 clasificación\n",
        "\n",
        "pipe = Pipeline([('paso_estandarizacion', StandardScaler()),\n",
        "                  ('paso_decision_tree', DecisionTreeClassifier())], verbose = True)\n",
        "\n",
        "# fitting los datos en el pipeline\n",
        "\n",
        "pipe.fit(X_train, y_train)\n",
        "\n",
        "# mostramos los resultados\n",
        "print(accuracy_score(y_test, pipe.predict(X_test)))"
      ]
    },
    {
      "cell_type": "code",
      "execution_count": 15,
      "metadata": {
        "colab": {
          "base_uri": "https://localhost:8080/"
        },
        "id": "apzqj_3DiX_5",
        "outputId": "df7ec7f8-efda-436a-e26e-618b9678e7fe"
      },
      "outputs": [
        {
          "name": "stdout",
          "output_type": "stream",
          "text": [
            "[Pipeline]  (step 1 of 1) Processing paso_decision_tree, total=   0.0s\n",
            "0.9466666666666667\n"
          ]
        }
      ],
      "source": [
        "pipe = Pipeline([('paso_decision_tree', DecisionTreeClassifier())], verbose = True)\n",
        "\n",
        "# fitting the data in the pipeline\n",
        "pipe.fit(X_train, y_train)\n",
        "\n",
        "print(accuracy_score(y_test, pipe.predict(X_test)))"
      ]
    },
    {
      "cell_type": "code",
      "execution_count": 16,
      "metadata": {
        "colab": {
          "base_uri": "https://localhost:8080/"
        },
        "id": "WGpYkKKP5VAc",
        "outputId": "cf26cbe2-a385-40b2-f8d8-a130c5f5d65c"
      },
      "outputs": [
        {
          "name": "stdout",
          "output_type": "stream",
          "text": [
            "[Pipeline]  (step 1 of 2) Processing paso_estandarizacion, total=   0.0s\n",
            "[Pipeline]  (step 2 of 2) Processing paso_decision_tree, total=   0.0s\n",
            "0.9466666666666667\n"
          ]
        }
      ],
      "source": [
        "# Ejemplo 2 \n",
        "# paso 1 estandarización, paso 2 clasificadro\n",
        "\n",
        "pipe = Pipeline([('paso_estandarizacion', StandardScaler()),\n",
        "                  ('paso_decision_tree', DecisionTreeClassifier())], verbose = True)\n",
        "\n",
        "# Con fit aplica todos los pasos\n",
        "\n",
        "pipe.fit(X_train, y_train)\n",
        "\n",
        "# mostramos los resultados\n",
        "print(accuracy_score(y_test, pipe.predict(X_test)))"
      ]
    },
    {
      "cell_type": "code",
      "execution_count": 17,
      "metadata": {},
      "outputs": [
        {
          "name": "stdout",
          "output_type": "stream",
          "text": [
            "[Pipeline] .......... (step 1 of 3) Processing paso_pca, total=   0.0s\n",
            "[Pipeline]  (step 2 of 3) Processing paso_estandarizacion, total=   0.0s\n",
            "[Pipeline]  (step 3 of 3) Processing paso_decision_tree, total=   0.0s\n",
            "0.96\n"
          ]
        }
      ],
      "source": [
        "# Ejemplo 3\n",
        "# pasos 1. PC, 2 estandarización, 3. decision tree\n",
        "\n",
        "pipe = Pipeline([('paso_pca', PCA(n_components = 2)), \n",
        "                 ('paso_estandarizacion', StandardScaler()), \n",
        "                   ('paso_decision_tree', DecisionTreeClassifier())], verbose = True)\n",
        "\n",
        "# COn  fit aplicamos todo\n",
        "\n",
        "pipe.fit(X_train, y_train)\n",
        "\n",
        "\n",
        "print(accuracy_score(y_test, pipe.predict(X_test)))"
      ]
    }
  ],
  "metadata": {
    "colab": {
      "authorship_tag": "ABX9TyPSa0PGkZakyLOOfiNuDsFr",
      "include_colab_link": true,
      "provenance": []
    },
    "kernelspec": {
      "display_name": "Python 3",
      "name": "python3"
    },
    "language_info": {
      "name": "python"
    }
  },
  "nbformat": 4,
  "nbformat_minor": 0
}
