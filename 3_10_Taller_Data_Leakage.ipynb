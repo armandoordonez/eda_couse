{
  "cells": [
    {
      "cell_type": "markdown",
      "metadata": {
        "colab_type": "text",
        "id": "view-in-github"
      },
      "source": [
        "<a href=\"https://colab.research.google.com/github/armandoordonez/eda_couse/blob/main/3_10_Taller_Data_Leakage.ipynb\" target=\"_parent\"><img src=\"https://colab.research.google.com/assets/colab-badge.svg\" alt=\"Open In Colab\"/></a>"
      ]
    },
    {
      "cell_type": "code",
      "execution_count": 6,
      "metadata": {
        "colab": {
          "base_uri": "https://localhost:8080/"
        },
        "id": "mi6LKWVDbihf",
        "outputId": "a7d8c93f-0513-4b23-fb6e-9f1462c85b92"
      },
      "outputs": [],
      "source": [
        "\n",
        "# Enfoque ingenuo para normalizar los datos antes de dividir los datos y evaluar el modelo\n",
        "\n",
        "# importar librerias\n",
        "\n",
        "from sklearn.datasets import make_classification\n",
        "from sklearn.model_selection import train_test_split\n",
        "from sklearn.preprocessing import MinMaxScaler\n",
        "from sklearn.linear_model import LogisticRegression\n",
        "from sklearn.metrics import accuracy_score\n",
        "\n",
        "from sklearn.pipeline import Pipeline\n",
        "\n",
        "from numpy import mean\n",
        "from numpy import std\n",
        "from sklearn.model_selection import cross_val_score\n",
        "from sklearn.model_selection import RepeatedStratifiedKFold\n"
      ]
    },
    {
      "cell_type": "code",
      "execution_count": 3,
      "metadata": {},
      "outputs": [
        {
          "name": "stdout",
          "output_type": "stream",
          "text": [
            "Accuracy: 84.848\n"
          ]
        }
      ],
      "source": [
        "# define dataset\n",
        "X, y = make_classification(n_samples=1000, n_features=20, n_informative=15, n_redundant=5, random_state=7)\n",
        "\n",
        "# standardize the dataset\n",
        "scaler = MinMaxScaler()\n",
        "\n",
        "X = scaler.fit_transform(X)\n",
        "\n",
        "# split into train and test sets\n",
        "X_train, X_test, y_train, y_test = train_test_split(X, y, test_size=0.33, random_state=1)\n",
        "\n",
        "# fit the model\n",
        "model = LogisticRegression()\n",
        "model.fit(X_train, y_train)\n",
        "\n",
        "# evaluate the model\n",
        "yhat = model.predict(X_test)\n",
        "\n",
        "# evaluate predictions\n",
        "accuracy = accuracy_score(y_test, yhat)\n",
        "print('Accuracy: %.3f' % (accuracy*100))"
      ]
    },
    {
      "cell_type": "code",
      "execution_count": null,
      "metadata": {
        "colab": {
          "base_uri": "https://localhost:8080/"
        },
        "id": "X1Pc2nUcbq2Z",
        "outputId": "719d1b69-5bb3-4c4c-fafe-4cf6a7872b43"
      },
      "outputs": [
        {
          "name": "stdout",
          "output_type": "stream",
          "text": [
            "Accuracy: 85.455\n"
          ]
        }
      ],
      "source": [
        "# el enfoque correcto para normalizar los datos después de dividir los datos y antes de evaluar el modelo\n",
        "\n",
        "# define dataset\n",
        "X, y = make_classification(n_samples=1000, n_features=20, n_informative=15, n_redundant=5, random_state=7)\n",
        "\n",
        "# split into train and test sets\n",
        "X_train, X_test, y_train, y_test = train_test_split(X, y, test_size=0.33, random_state=1)\n",
        "\n",
        "# define the scaler\n",
        "scaler = MinMaxScaler()\n",
        "\n",
        "# fit on the training dataset\n",
        "scaler.fit(X_train)\n",
        "\n",
        "# scale the training dataset\n",
        "X_train = scaler.transform(X_train)\n",
        "\n",
        "# scale the test dataset\n",
        "X_test = scaler.transform(X_test)\n",
        "\n",
        "# fit the model\n",
        "model = LogisticRegression()\n",
        "model.fit(X_train, y_train)\n",
        "\n",
        "# evaluate the model\n",
        "yhat = model.predict(X_test)\n",
        "# evaluate predictions\n",
        "accuracy = accuracy_score(y_test, yhat)\n",
        "print('Accuracy: %.3f' % (accuracy*100))"
      ]
    },
    {
      "cell_type": "code",
      "execution_count": null,
      "metadata": {
        "colab": {
          "base_uri": "https://localhost:8080/"
        },
        "id": "82-HQdpBdUXp",
        "outputId": "ce382f2b-f6d0-448e-9c06-83273bb3a9a2"
      },
      "outputs": [
        {
          "name": "stdout",
          "output_type": "stream",
          "text": [
            "Accuracy: 85.300 (3.607)\n"
          ]
        }
      ],
      "source": [
        "\n",
        "# naive data preparation for model evaluation with k-fold cross-validation\n",
        "# enfoque ingenuo para normalizar los datos antes de dividir los datos y evaluar el modelo\n",
        "\n",
        "# define dataset\n",
        "X, y = make_classification(n_samples=1000, n_features=20, n_informative=15, n_redundant=5, random_state=7)\n",
        "\n",
        "# standardize the dataset\n",
        "scaler = MinMaxScaler()\n",
        "X = scaler.fit_transform(X)\n",
        "\n",
        "# define the model\n",
        "model = LogisticRegression()\n",
        "\n",
        "# define the evaluation procedure\n",
        "cv = RepeatedStratifiedKFold(n_splits=10, n_repeats=3, random_state=1)\n",
        "\n",
        "# evaluate the model using cross-validation\n",
        "scores = cross_val_score(model, X, y, scoring='accuracy', cv=cv, n_jobs=-1)\n",
        "\n",
        "# report performance\n",
        "print('Accuracy: %.3f (%.3f)' % (mean(scores)*100, std(scores)*100))"
      ]
    },
    {
      "cell_type": "code",
      "execution_count": 8,
      "metadata": {
        "colab": {
          "base_uri": "https://localhost:8080/"
        },
        "id": "RPd7UO8sdmPv",
        "outputId": "9670cae0-7514-42d7-b741-785d4f5fe04b"
      },
      "outputs": [
        {
          "name": "stdout",
          "output_type": "stream",
          "text": [
            "Accuracy: 85.400 (3.489)\n"
          ]
        }
      ],
      "source": [
        "\n",
        "# correct data preparation for model evaluation with k-fold cross-validation\n",
        "\n",
        "# define dataset\n",
        "X, y = make_classification(n_samples=1000, n_features=20, n_informative=15, n_redundant=5, random_state=7)\n",
        "\n",
        "# define the pipeline\n",
        "steps = list()\n",
        "steps.append(('scaler', MinMaxScaler()))\n",
        "steps.append(('model', LogisticRegression()))\n",
        "pipeline = Pipeline(steps=steps)\n",
        "\n",
        "# define the evaluation procedure\n",
        "cv = RepeatedStratifiedKFold(n_splits=10, n_repeats=3, random_state=1)\n",
        "\n",
        "# evaluate the model using cross-validation\n",
        "scores = cross_val_score(pipeline, X, y, scoring='accuracy', cv=cv, n_jobs=-1)\n",
        "\n",
        "# report performance\n",
        "print('Accuracy: %.3f (%.3f)' % (mean(scores)*100, std(scores)*100))\n",
        "\n",
        "# la diferencia entre este enfoque y el anterior es que en este caso se normaliza después de dividir los datos y antes de evaluar el modelo.\n",
        "# Esto es importante porque el modelo no tiene acceso a los datos de prueba durante el entrenamiento y, por lo tanto, no puede filtrar información sobre los datos de prueba en el proceso de normalización.\n",
        "# Esto significa que la evaluación es más realista y menos optimista, lo que resulta en una estimación más precisa del rendimiento del modelo en datos no vistos.\n",
        "# En general, es una buena práctica normalizar los datos después de dividir los datos y antes de evaluar un modelo de aprendizaje automático.\n",
        "# El pipeline de scikit-learn proporciona una forma conveniente de lograr esto en una sola estructura que se puede evaluar utilizando la función cross_val_score().\n",
        "# En este caso, se normaliza el conjunto de datos antes de dividirlo y se evalúa el modelo utilizando un pipeline que normaliza los datos antes de ajustar el modelo.\n",
        "# Se informa la precisión media y la desviación estándar de la precisión en un conjunto de datos de prueba simulado utilizando la validación cruzada repetida estratificada.\n"
      ]
    },
    {
      "cell_type": "code",
      "execution_count": null,
      "metadata": {
        "id": "MVOh5eDld4sw"
      },
      "outputs": [],
      "source": []
    }
  ],
  "metadata": {
    "colab": {
      "authorship_tag": "ABX9TyOMWN/NQBo2y0JzZwbHrbV7",
      "include_colab_link": true,
      "provenance": []
    },
    "kernelspec": {
      "display_name": ".venv",
      "language": "python",
      "name": "python3"
    },
    "language_info": {
      "codemirror_mode": {
        "name": "ipython",
        "version": 3
      },
      "file_extension": ".py",
      "mimetype": "text/x-python",
      "name": "python",
      "nbconvert_exporter": "python",
      "pygments_lexer": "ipython3",
      "version": "3.10.11"
    }
  },
  "nbformat": 4,
  "nbformat_minor": 0
}
